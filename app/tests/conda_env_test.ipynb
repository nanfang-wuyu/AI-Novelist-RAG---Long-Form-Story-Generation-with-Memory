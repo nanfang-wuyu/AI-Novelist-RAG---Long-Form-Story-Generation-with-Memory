{
 "cells": [
  {
   "cell_type": "code",
   "execution_count": 1,
   "id": "a033cb8e",
   "metadata": {},
   "outputs": [
    {
     "data": {
      "text/plain": [
       "True"
      ]
     },
     "execution_count": 1,
     "metadata": {},
     "output_type": "execute_result"
    }
   ],
   "source": [
    "import torch\n",
    "torch.cuda.is_available()"
   ]
  },
  {
   "cell_type": "code",
   "execution_count": 1,
   "id": "2cbbf214",
   "metadata": {},
   "outputs": [
    {
     "name": "stderr",
     "output_type": "stream",
     "text": [
      "c:\\Users\\nanfangwuyu\\.conda\\envs\\novel_rag\\lib\\site-packages\\tqdm\\auto.py:21: TqdmWarning: IProgress not found. Please update jupyter and ipywidgets. See https://ipywidgets.readthedocs.io/en/stable/user_install.html\n",
      "  from .autonotebook import tqdm as notebook_tqdm\n"
     ]
    }
   ],
   "source": [
    "import torch\n",
    "from transformers import AutoTokenizer, AutoModelForCausalLM, TextStreamer, BitsAndBytesConfig\n",
    "\n",
    "\n",
    "class LocalQwenModel:\n",
    "    \n",
    "\n",
    "    def __init__(self, model_path: str):\n",
    "        self.model_path = model_path\n",
    "        self.device = \"cuda\" if torch.cuda.is_available() else \"cpu\"\n",
    "        self.tokenizer = AutoTokenizer.from_pretrained(model_path, trust_remote_code=True)\n",
    "        \n",
    "        self.model = AutoModelForCausalLM.from_pretrained(\n",
    "            model_path,\n",
    "            device_map=\"auto\",\n",
    "            trust_remote_code=True,\n",
    "            torch_dtype=\"auto\",\n",
    "            # quantization_config=self.quantization_config,\n",
    "            low_cpu_mem_usage=True,\n",
    "        )\n",
    "\n",
    "        self.streamer = TextStreamer(self.tokenizer, skip_prompt=True, skip_special_tokens=True)\n",
    "\n",
    "\n",
    "    def generate(self, prompt: str, max_new_tokens: int = 256) -> str:\n",
    "        \n",
    "        messages = [\n",
    "            {\"role\": \"system\", \"content\": \"You are a helpful novelist.\"},\n",
    "            {\"role\": \"user\", \"content\": prompt}\n",
    "        ]\n",
    "        \n",
    "        text = self.tokenizer.apply_chat_template(\n",
    "            messages,\n",
    "            tokenize=False,\n",
    "            add_generation_prompt=True\n",
    "        )\n",
    "\n",
    "        inputs = self.tokenizer([text], return_tensors=\"pt\").to(self.device)\n",
    "        \n",
    "        with torch.no_grad():\n",
    "            output = self.model.generate(\n",
    "                **inputs,\n",
    "                # streamer=self.streamer,\n",
    "                max_new_tokens=max_new_tokens,\n",
    "                # do_sample=True,\n",
    "                temperature=0.8,\n",
    "                top_p=0.9\n",
    "            )\n",
    "        return self.tokenizer.decode(output[0], skip_special_tokens=True)\n"
   ]
  },
  {
   "cell_type": "code",
   "execution_count": null,
   "id": "e2426515",
   "metadata": {},
   "outputs": [],
   "source": [
    "# model = LocalQwenModel(\"Qwen/Qwen2.5-7B-Instruct-GPTQ-Int4\")  \n",
    "model = LocalQwenModel(\"Qwen/Qwen1.5-7B-Chat-GPTQ-Int4\")"
   ]
  },
  {
   "cell_type": "code",
   "execution_count": null,
   "id": "0be6e9f5",
   "metadata": {},
   "outputs": [],
   "source": [
    "model.generate(\"Write a story about a dragon and a princess.\", 128)"
   ]
  },
  {
   "cell_type": "code",
   "execution_count": 1,
   "id": "70b580c6",
   "metadata": {},
   "outputs": [
    {
     "name": "stderr",
     "output_type": "stream",
     "text": [
      "c:\\Users\\nanfangwuyu\\.conda\\envs\\novel_rag\\lib\\site-packages\\tqdm\\auto.py:21: TqdmWarning: IProgress not found. Please update jupyter and ipywidgets. See https://ipywidgets.readthedocs.io/en/stable/user_install.html\n",
      "  from .autonotebook import tqdm as notebook_tqdm\n",
      "Loading checkpoint shards: 100%|██████████| 2/2 [00:08<00:00,  4.02s/it]\n"
     ]
    }
   ],
   "source": [
    "import torch\n",
    "from transformers import AutoTokenizer, AutoModelForCausalLM\n",
    "tokenizer = AutoTokenizer.from_pretrained(\"internlm/internlm2-chat-1_8b\", trust_remote_code=True)\n",
    "# Set `torch_dtype=torch.float16` to load model in float16, otherwise it will be loaded as float32 and cause OOM Error.\n",
    "model = AutoModelForCausalLM.from_pretrained(\"internlm/internlm2-chat-1_8b\", torch_dtype=torch.float16, trust_remote_code=True).cuda()\n",
    "model = model.eval()\n",
    "\n",
    "\n",
    "\n"
   ]
  },
  {
   "cell_type": "code",
   "execution_count": 2,
   "id": "23d76c37",
   "metadata": {},
   "outputs": [
    {
     "name": "stderr",
     "output_type": "stream",
     "text": [
      "Both `max_new_tokens` (=256) and `max_length`(=512) seem to have been set. `max_new_tokens` will take precedence. Please refer to the documentation for more information. (https://huggingface.co/docs/transformers/main/en/main_classes/text_generation)\n"
     ]
    },
    {
     "name": "stdout",
     "output_type": "stream",
     "text": [
      "当夜幕降临，城市灯光逐渐熄灭，在热闹繁华的街道上，一位名叫艾米的女孩儿停下了脚步，她的脸上露出了疲惫的神情。她曾经是一位勇敢而坚强的女性，但自从经历了一次意外之后，一切都变了……\n",
      "\n",
      "在这个小镇中，三组截然不同的人物正悄悄地聚集在一起。他们是两个男孩和一个女孩的组合：杰克和汤姆是青梅竹马的好友，他们拥有相同的梦想——成为一名成功的音乐家；凯特则是家族企业的一名年轻员工，她是这个家庭中最温柔、最善良的女孩之一；而莉莎则是一个来自远方的神秘女子，她在寻找自己的身份和归宿时与她们相遇了。\n",
      "\n",
      "三人之间的友谊被命运的偶然所打破，却也因此找到了共同的语言与目标。他们在每个夜晚漫步在小镇的角落，享受着星空下的宁静和彼此的支持，开始了一段充满故事和冒险的经历。但是，他们的生活中还隐藏着一个令人心寒的秘密：某个不可告人的计划正在悄然发展，而这一切都牵涉到家族的利益和他们每个人的生命安全……\n"
     ]
    }
   ],
   "source": [
    "response, history = model.chat(tokenizer, \"帮我设计一个小说框架。主角有三个人，两男一女。设计好之后，写一段200字的开头。\", history=[], max_new_tokens=256, max_length=512, do_sample=True, temperature=0.95, top_p=0.9, top_k=50, repetition_penalty=1.2)\n",
    "print(response)"
   ]
  },
  {
   "cell_type": "code",
   "execution_count": null,
   "id": "f28e8586",
   "metadata": {},
   "outputs": [],
   "source": []
  },
  {
   "cell_type": "code",
   "execution_count": null,
   "id": "005a6fe8",
   "metadata": {},
   "outputs": [],
   "source": [
    "# Hello! How can I help you today?\n",
    "response, history = model.chat(tokenizer, \"please provide three suggestions about time management\", history=history)\n",
    "print(response)"
   ]
  },
  {
   "cell_type": "code",
   "execution_count": null,
   "id": "cf2f8eb7",
   "metadata": {},
   "outputs": [],
   "source": [
    "import subprocess\n",
    "import requests\n",
    "result = subprocess.run(\n",
    "        [\"ollama\", \"run\", \"deepseek-r1\", \"who are you?\",],\n",
    "        capture_output=True, text=True\n",
    "    )\n",
    "output = result.stdout\n",
    "print(\"STDOUT:\", result.stdout)\n",
    "print(\"STDERR:\", result.stderr)"
   ]
  },
  {
   "cell_type": "code",
   "execution_count": 2,
   "id": "4815e1f2",
   "metadata": {},
   "outputs": [
    {
     "name": "stdout",
     "output_type": "stream",
     "text": [
      "The sky appears blue because of a phenomenon called Rayleigh scattering, named after the British physicist Lord Rayleigh, who first described it in the late 19th century. Here's a simplified explanation:\n",
      "\n",
      "1. **Sunlight enters the Earth's atmosphere**: When sunlight enters our atmosphere, it consists of a spectrum of colors, including red, orange, yellow, green, blue, indigo, and violet.\n",
      "2. **Light travels through the atmosphere**: As light travels through the air, it encounters tiny molecules of gases such as nitrogen (N2) and oxygen (O2).\n",
      "3. **Scattering occurs**: These small gas molecules scatter the shorter wavelengths of light, like blue and violet, more than the longer wavelengths, like red and orange. This is known as Rayleigh scattering.\n",
      "4. **Blue light is scattered in all directions**: The scattered blue light is distributed throughout the atmosphere in all directions, giving the sky its blue color.\n",
      "5. **The Earth's atmosphere scatters even more blue light**: As a result of this scattering, the blue light is also reflected back towards our eyes by the entire atmosphere, making it appear as though the sky is blue.\n",
      "\n",
      "This effect is most pronounced when the sun is high in the sky and the atmosphere is calm, allowing the blue light to be scattered extensively. During sunrise and sunset, the angle of the sunlight changes, and the shorter wavelengths are more efficiently scattered, giving the sky a reddish or orange hue.\n",
      "\n",
      "In summary, the sky appears blue because of Rayleigh scattering, which scatters shorter wavelengths of light (like blue) in all directions and reflects them back to our eyes, creating the blue color we see during the day.\n"
     ]
    }
   ],
   "source": [
    "from ollama import generate\n",
    "\n",
    "response = generate('llama3.2:1b-instruct-fp16', 'Why is the sky blue?')\n",
    "print(response['response'])"
   ]
  },
  {
   "cell_type": "code",
   "execution_count": 1,
   "id": "1588afe0",
   "metadata": {},
   "outputs": [
    {
     "name": "stdout",
     "output_type": "stream",
     "text": [
      "NAME                         ID              SIZE      MODIFIED       \n",
      "deepseek-r1:latest           0a8c26691023    4.7 GB    27 minutes ago    \n",
      "llama3.2:1b-instruct-fp16    2887c3d03e74    2.5 GB    57 minutes ago    \n"
     ]
    }
   ],
   "source": [
    "!ollama list"
   ]
  },
  {
   "cell_type": "code",
   "execution_count": 5,
   "id": "08d1a0b0",
   "metadata": {},
   "outputs": [
    {
     "name": "stdout",
     "output_type": "stream",
     "text": [
      "In the land of Eridoria, where mythical creatures roamed free, a majestic dragon named Tharros dwelled in the heart of a lush forest. For centuries, the kingdom's people had revered Tharros as a benevolent guardian, protecting their borders from harm.\n",
      "\n",
      "One day, a beautiful princess named Sophia stumbled upon the dragon while on a journey to explore the ancient ruins. She was immediately captivated by the magnificent creature and its shimmering scales. As she reached out a hand, Tharros regarded her calmly, his piercing eyes seeming to hold a deep wisdom.\n",
      "\n",
      "Moved by a sense of curiosity, Sophia decided to approach Tharros slowly, speaking softly to reassure the dragon. To her surprise, Tharros began to converse with her, its voice rumbling like thunder. The princess listened intently as Tharros shared tales of Eridoria's history and the secrets of his ancient world.\n",
      "\n",
      "As the sun dipped below the horizon, Sophia and Tharros forged an unlikely friendship. Under the starry sky, they discovered a shared love for stories and knowledge. Tharros taught Sophia about the art of dragon magic, and she revealed to him the wonders of human innovation.\n",
      "\n",
      "From that day forward, Sophia and Tharros roamed the kingdom together, their bond growing stronger with each passing night. The people rejoiced at the unlikely friendship between a princess and a dragon, and the land prospered under their combined wisdom. As the years went by, Eridoria flourished, and Sophia's heart remained filled with wonder and affection for her majestic guardian, Tharros.\n"
     ]
    }
   ],
   "source": [
    "response = generate('llama3.2:1b-instruct-fp16', 'Write a story about a dragon and a princess, within 300 words.')\n",
    "print(response['response'])"
   ]
  },
  {
   "cell_type": "code",
   "execution_count": 6,
   "id": "10b36fbb",
   "metadata": {},
   "outputs": [
    {
     "name": "stderr",
     "output_type": "stream",
     "text": [
      "c:\\Users\\nanfangwuyu\\.conda\\envs\\novel_rag\\lib\\site-packages\\tqdm\\auto.py:21: TqdmWarning: IProgress not found. Please update jupyter and ipywidgets. See https://ipywidgets.readthedocs.io/en/stable/user_install.html\n",
      "  from .autonotebook import tqdm as notebook_tqdm\n",
      "Device set to use cuda:0\n"
     ]
    },
    {
     "name": "stdout",
     "output_type": "stream",
     "text": [
      "<|system|>\n",
      "You are a friendly chatbot who always responds in the style of a pirate</s>\n",
      "<|user|>\n",
      "How many helicopters can a human eat in one sitting?</s>\n",
      "<|assistant|>\n",
      "There is no specific information provided in the given text about the number of helicopters a human can eat in one sitting.\n"
     ]
    }
   ],
   "source": [
    "# Install transformers from source - only needed for versions <= v4.34\n",
    "# pip install git+https://github.com/huggingface/transformers.git\n",
    "# pip install accelerate\n",
    "\n",
    "import torch\n",
    "from transformers import pipeline\n",
    "\n",
    "pipe = pipeline(\"text-generation\", model=\"TinyLlama/TinyLlama-1.1B-Chat-v1.0\", torch_dtype=torch.bfloat16, device_map=\"auto\")\n",
    "\n",
    "# We use the tokenizer's chat template to format each message - see https://huggingface.co/docs/transformers/main/en/chat_templating\n",
    "messages = [\n",
    "    {\n",
    "        \"role\": \"system\",\n",
    "        \"content\": \"You are a friendly chatbot who always responds in the style of a pirate\",\n",
    "    },\n",
    "    {\"role\": \"user\", \"content\": \"How many helicopters can a human eat in one sitting?\"},\n",
    "]\n",
    "prompt = pipe.tokenizer.apply_chat_template(messages, tokenize=False, add_generation_prompt=True)\n",
    "outputs = pipe(prompt, max_new_tokens=256, do_sample=True, temperature=0.7, top_k=50, top_p=0.95)\n",
    "print(outputs[0][\"generated_text\"])\n",
    "# <|system|>\n",
    "# You are a friendly chatbot who always responds in the style of a pirate.</s>\n",
    "# <|user|>\n",
    "# How many helicopters can a human eat in one sitting?</s>\n",
    "# <|assistant|>\n",
    "# ...\n"
   ]
  },
  {
   "cell_type": "code",
   "execution_count": 9,
   "id": "f518b05f",
   "metadata": {},
   "outputs": [
    {
     "name": "stdout",
     "output_type": "stream",
     "text": [
      "<|system|>\n",
      "You are a friendly chatbot who always responds in the style of a pirate</s>\n",
      "<|user|>\n",
      "Can you write me a first chapter of a story about a dragon and a princess?</s>\n",
      "<|assistant|>\n",
      "Sure, here's a first chapter of a story about a dragon and a princess:\n",
      "\n",
      "Once upon a time, in a far-off land, there was a dragon named Zulin, who lived in a dense forest deep in the heart of the kingdom. Zulin was a wise and ancient dragon, with scales as black as night and eyes as fiery as fire. He had lived in the forest for many years, watching over the land and its inhabitants with a keen eye.\n",
      "\n",
      "One day, as Zulin was taking a rest in his den, he heard a sweet melody coming from the palace of the princess, who had been away on a journey. The princess, a beautiful and kind-hearted young woman, had been searching for a way to save her beloved kingdom from a dark and powerful sorcerer who was threatening to destroy it.\n",
      "\n",
      "Zulin knew that he could help the princess in her quest. He approached her and told her about his wisdom and his experience as a dragon. The princess was impressed by Zulin's wisdom and knowledge, and she invited him to her palace.\n",
      "\n",
      "Zulin agreed, and he and the princess set out on their journey together. Along the way, they encountered many obstacles, including monsters and dark magic. But Zulin and the princess were determined to succeed, and they fought bravely against the evil forces.\n",
      "\n",
      "Finally, after many months of travel, they reached the sorcerer's castle. The sorcerer was a gruff and powerful man, with a face like a storm cloud and eyes as black as coal. He challenged Zulin and the princess to a battle, and they fought fiercely.\n",
      "\n",
      "In the end, Zulin and the princess emerged victorious. The sorcerer was defeated, and his power was broken. The princess was saved, and Zulin was hailed as a hero.\n",
      "\n",
      "The princess married Zulin and lived happily ever after. Zulin became a cherished companion to the princess, and they lived together in a peaceful forest, surrounded by a magical forest and a happy, peaceful kingdom.\n",
      "\n",
      "So, there you have it - a story about a dragon and a princess, a tale of courage, bravery, and love.\n"
     ]
    }
   ],
   "source": [
    "messages = [\n",
    "    {\n",
    "        \"role\": \"system\",\n",
    "        \"content\": \"You are a friendly chatbot who always responds in the style of a pirate\",\n",
    "    },\n",
    "    {\"role\": \"user\", \"content\": \"Can you write me a first chapter of a story about a dragon and a princess?\"},\n",
    "]\n",
    "prompt = pipe.tokenizer.apply_chat_template(messages, tokenize=False, add_generation_prompt=True)\n",
    "outputs = pipe(prompt, max_new_tokens=2048, do_sample=True, temperature=0.7, top_k=50, top_p=0.95)\n",
    "print(outputs[0][\"generated_text\"])"
   ]
  }
 ],
 "metadata": {
  "kernelspec": {
   "display_name": "Python 3",
   "language": "python",
   "name": "python3"
  },
  "language_info": {
   "codemirror_mode": {
    "name": "ipython",
    "version": 3
   },
   "file_extension": ".py",
   "mimetype": "text/x-python",
   "name": "python",
   "nbconvert_exporter": "python",
   "pygments_lexer": "ipython3",
   "version": "3.10.16"
  }
 },
 "nbformat": 4,
 "nbformat_minor": 5
}
