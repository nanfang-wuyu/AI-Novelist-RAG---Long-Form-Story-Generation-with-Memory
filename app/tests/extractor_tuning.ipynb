{
 "cells": [
  {
   "cell_type": "code",
   "execution_count": 1,
   "id": "3ca9df91",
   "metadata": {},
   "outputs": [],
   "source": [
    "import os\n",
    "doc = \"\"\"\n",
    "\n",
    "Kevin was a friendly and charming magician, with a wicked sense of humor and a mischievous streak that often got him into trouble. He had been working at a magic show for years, and had honed his skills through years of practice and dedication.\n",
    "\n",
    "One day, Kevin received a phone call from Lucy, the notorious thief. She was looking for someone to help her steal something from a major corporation. Kevin had heard of Lucy's reputation and thought it might be an opportunity to earn a good payday.\n",
    "\n",
    "Lucy was known for her meticulous planning and her ability to think on her feet. She quickly put together a team of accomplices, including an unlikely ally named Harry. Together, they plotted and executed their plan with precision.\n",
    "\n",
    "They arrived at the corporation's headquarters in a black limousine, driving through the sweltering heat. Kevin watched from the sidelines, feeling a little out of place in this world. He didn't have a key to the building, but that was okay. He could pretend to be a magician and perform some illusions to distract the security guard.\n",
    "\n",
    "As they approached the main entrance, the guard was busy checking tickets. Kevin slipped past him, and Lucy whispered a sly remark in Harry's ear. He nodded in agreement, and they rushed past the security team.\n",
    "\n",
    "They made their way to the vault, which was hidden in a small alcove behind some old books. The vault was guarded by a large stone statue, complete with glowing eyes and claws. The thieves carefully approached the statue, pretending to be curious about its contents.\n",
    "\n",
    "But their curiosity was quickly put to the test when the stone statue came to life, unfurling its powerful claws and glowing eyes. The thieves scurried back, realizing they had made a grave mistake.\n",
    "\n",
    "Lucy had been waiting for them in the shadows. She had set a trap for them, and they had stumbled into it. But Kevin and Lucy were quick-thinking, and they quickly worked together to escape.\n",
    "\n",
    "They made their way out of the building, past more guards and into the night. Lucy whispered in Kevin's ear, urging him to help them find a new location to steal something.\n",
    "\n",
    "They headed to a nearby warehouse, but they didn't know what to expect. They arrived to find a police officer standing guard. The thieves quickly outmaneuvered him, slipping past the police and making their way to the top of the building.\n",
    "\n",
    "There, they found a large safe with a key inside. But they had underestimated the police. They had been caught in the act, and the police had surrounded them.\n",
    "\n",
    "Kevin and Lucy knew they had to act fast. They quickly disarmed the police and made their way to the other side of the building. There, they made their way to a hidden room with a large soda machine and a bottle of vodka.\n",
    "\n",
    "They drank the vodka and then called for a taxi, hoping they would make it out of the city alive.\n",
    "\n",
    "The next day, they received a call from their boss. The corporation had been robbed, and they needed them back. The thieves were arrested and charged with theft.\n",
    "\n",
    "In the end, they had only stolen a few coins and some soda cans. But they had also earned a good payday and had become famous in the underground world of thieves. They had learned the hard way that even the most cunning and talented of magicians could be outsmarted by the simplest of distractions.\n",
    "\"\"\""
   ]
  },
  {
   "cell_type": "code",
   "execution_count": 3,
   "id": "37650d42",
   "metadata": {},
   "outputs": [],
   "source": [
    "sub = \"\"\"Kevin was a friendly and charming magician, with a wicked sense of humor and a mischievous streak that often got him into trouble. He had been working at a magic show for years, and had honed his skills through years of practice and dedication.\n",
    "\n",
    "One day, Kevin received a phone call from Lucy, the notorious thief. She was looking for someone to help her steal something from a major corporation. Kevin had heard of Lucy's reputation and thought it might be an opportunity to earn a good payday.\n",
    "\n",
    "Lucy was known for her meticulous planning and her ability to think on her feet. She quickly put together a team of accomplices, including an unlikely ally named Harry. Together, they plotted and executed their plan with precision.\n",
    "\n",
    "They arrived at the corporation's headquarters in a black limousine, driving through the sweltering heat. Kevin watched from the sidelines, feeling a little out of place in this world. He didn't have a key to the building, but that was okay. He could pretend to be a magician and perform some illusions to distract the security guard.\"\"\""
   ]
  },
  {
   "cell_type": "code",
   "execution_count": 2,
   "id": "a61f1db0",
   "metadata": {},
   "outputs": [
    {
     "name": "stdout",
     "output_type": "stream",
     "text": [
      "{'who': 'One, Kevin, Lucy', 'what': 'One day, Kevin received a phone call from Lucy, the notorious thief.', 'when': 'one day', 'where': None}\n",
      "{'who': 'Together', 'what': 'Together, they plotted and executed their plan with precision.', 'when': None, 'where': None}\n",
      "{'who': 'They', 'what': \"They arrived at the corporation's headquarters in a black limousine, driving through the sweltering heat.\", 'when': None, 'where': 'headquarters'}\n",
      "{'who': 'Kevin', 'what': 'Kevin pretended to be a magician and performed illusions to distract the security guard.', 'when': None, 'where': None}\n"
     ]
    }
   ],
   "source": [
    "import re\n",
    "from typing import List, Dict\n",
    "\n",
    "def extract_information_links(text: str) -> List[Dict]:\n",
    "    \"\"\"\n",
    "    从文本中抽取信息条：主体-who，情节-what，时间-when（可选），地点-where（可选）\n",
    "    \"\"\"\n",
    "    # 简单切句（以'.'、'!'、'?'分隔）\n",
    "    sentences = re.split(r'(?<=[.!?])\\s+', text)\n",
    "\n",
    "    info_links = []\n",
    "\n",
    "    for sentence in sentences:\n",
    "        if not sentence.strip():\n",
    "            continue\n",
    "        \n",
    "        # 预处理：简单规范空格\n",
    "        sentence = sentence.strip()\n",
    "\n",
    "        # 主体（who）抽取：找出句子的主语（最简单处理版）\n",
    "        # 用正则找可能的人名、组织名（大写开头的词组）\n",
    "        who_matches = re.findall(r'\\b[A-Z][a-z]+\\b(?:\\s+[A-Z][a-z]+)*', sentence)\n",
    "        who = \", \".join(who_matches) if who_matches else None\n",
    "\n",
    "        # 情节（what）抽取：找出句子里的主要动作（动词短语）\n",
    "        # 这里简单匹配关键词，比如 received, built, plotted, performed\n",
    "        action_keywords = ['received', 'planned', 'plotted', 'executed', 'built', 'formed', 'performed', 'drove', 'arrived', 'watched', 'pretend']\n",
    "        what = None\n",
    "        for keyword in action_keywords:\n",
    "            if keyword in sentence.lower():\n",
    "                what = sentence\n",
    "                break\n",
    "        \n",
    "        # 时间（when）抽取：找出时间表达\n",
    "        time_patterns = ['one day', 'next week', 'yesterday', 'tomorrow', 'in \\d+ days', 'after \\d+ days']\n",
    "        when = None\n",
    "        for pattern in time_patterns:\n",
    "            if re.search(pattern, sentence.lower()):\n",
    "                when = re.search(pattern, sentence.lower()).group()\n",
    "                break\n",
    "        \n",
    "        # 地点（where）抽取：找出地点表达\n",
    "        place_keywords = ['headquarters', 'city', 'town', 'school', 'building', 'station', 'hospital']\n",
    "        where = None\n",
    "        for place in place_keywords:\n",
    "            if place in sentence.lower():\n",
    "                where = place\n",
    "                break\n",
    "        \n",
    "        # 必须有主体+情节，才算一个有效信息条\n",
    "        if who and what:\n",
    "            info_links.append({\n",
    "                \"who\": who,\n",
    "                \"what\": what,\n",
    "                \"when\": when,\n",
    "                \"where\": where\n",
    "            })\n",
    "    \n",
    "    return info_links\n",
    "\n",
    "# 小测试\n",
    "if __name__ == \"__main__\":\n",
    "    text = \"\"\"\n",
    "    Kevin was a friendly and charming magician, with a wicked sense of humor and a mischievous streak that often got him into trouble.\n",
    "    One day, Kevin received a phone call from Lucy, the notorious thief. She was looking for someone to help her steal something from a major corporation.\n",
    "    Lucy quickly put together a team of accomplices, including an unlikely ally named Harry. Together, they plotted and executed their plan with precision.\n",
    "    They arrived at the corporation's headquarters in a black limousine, driving through the sweltering heat.\n",
    "    Kevin pretended to be a magician and performed illusions to distract the security guard.\n",
    "    \"\"\"\n",
    "    extracted_links = extract_information_links(text)\n",
    "    for link in extracted_links:\n",
    "        print(link)\n"
   ]
  },
  {
   "cell_type": "code",
   "execution_count": 4,
   "id": "24fbd6d6",
   "metadata": {},
   "outputs": [
    {
     "name": "stdout",
     "output_type": "stream",
     "text": [
      "{'who': 'One, Kevin, Lucy', 'what': 'One day, Kevin received a phone call from Lucy, the notorious thief.', 'when': 'one day', 'where': None}\n",
      "{'who': 'Together', 'what': 'Together, they plotted and executed their plan with precision.', 'when': None, 'where': None}\n",
      "{'who': 'They', 'what': \"They arrived at the corporation's headquarters in a black limousine, driving through the sweltering heat.\", 'when': None, 'where': 'headquarters'}\n",
      "{'who': 'Kevin', 'what': 'Kevin watched from the sidelines, feeling a little out of place in this world.', 'when': None, 'where': None}\n",
      "{'who': 'He', 'what': 'He could pretend to be a magician and perform some illusions to distract the security guard.', 'when': None, 'where': None}\n"
     ]
    }
   ],
   "source": [
    "extracted_links = extract_information_links(sub)\n",
    "for link in extracted_links:\n",
    "    print(link)"
   ]
  },
  {
   "cell_type": "code",
   "execution_count": null,
   "id": "941dbb92",
   "metadata": {},
   "outputs": [],
   "source": [
    "l = ['1','2','3','4','5']\n",
    "\n",
    "''.join(l[2])"
   ]
  },
  {
   "cell_type": "code",
   "execution_count": 1,
   "id": "32739cee",
   "metadata": {},
   "outputs": [
    {
     "data": {
      "text/plain": [
       "'sfsfsafsdf 231412'"
      ]
     },
     "execution_count": 1,
     "metadata": {},
     "output_type": "execute_result"
    }
   ],
   "source": [
    "m = \"sfsfsafsdf {}\"\n",
    "m.format(\"231412\")"
   ]
  }
 ],
 "metadata": {
  "kernelspec": {
   "display_name": "Python 3",
   "language": "python",
   "name": "python3"
  },
  "language_info": {
   "codemirror_mode": {
    "name": "ipython",
    "version": 3
   },
   "file_extension": ".py",
   "mimetype": "text/x-python",
   "name": "python",
   "nbconvert_exporter": "python",
   "pygments_lexer": "ipython3",
   "version": "3.10.16"
  }
 },
 "nbformat": 4,
 "nbformat_minor": 5
}
